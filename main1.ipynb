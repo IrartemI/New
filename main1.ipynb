{
  "nbformat": 4,
  "nbformat_minor": 0,
  "metadata": {
    "colab": {
      "provenance": [],
      "gpuType": "T4",
      "authorship_tag": "ABX9TyMAmKyT5iOKzYU/6b229myT",
      "include_colab_link": true
    },
    "kernelspec": {
      "name": "python3",
      "display_name": "Python 3"
    },
    "language_info": {
      "name": "python"
    },
    "accelerator": "GPU"
  },
  "cells": [
    {
      "cell_type": "markdown",
      "metadata": {
        "id": "view-in-github",
        "colab_type": "text"
      },
      "source": [
        "<a href=\"https://colab.research.google.com/github/IrartemI/New/blob/main/main1.ipynb\" target=\"_parent\"><img src=\"https://colab.research.google.com/assets/colab-badge.svg\" alt=\"Open In Colab\"/></a>"
      ]
    },
    {
      "cell_type": "code",
      "execution_count": null,
      "metadata": {
        "colab": {
          "base_uri": "https://localhost:8080/"
        },
        "id": "cdSj4HKtryn9",
        "outputId": "7676d67a-8220-481c-93f3-8db7e184ce28"
      },
      "outputs": [
        {
          "output_type": "execute_result",
          "data": {
            "text/plain": [
              "[1, 3, 5, 6]"
            ]
          },
          "metadata": {},
          "execution_count": 2
        }
      ],
      "source": [
        "my_list = [3, 5, 1, 6]\n",
        "sorted(my_list)"
      ]
    },
    {
      "cell_type": "markdown",
      "source": [
        "Это я пробую какую-то новую хрень"
      ],
      "metadata": {
        "id": "dX79KICItDFw"
      }
    },
    {
      "cell_type": "code",
      "source": [
        "import tensorflow as tf\n",
        "x = tf.ones(shape=(2,1))\n",
        "print(x)"
      ],
      "metadata": {
        "id": "bsne18rQtfiR",
        "colab": {
          "base_uri": "https://localhost:8080/"
        },
        "outputId": "b0e27320-32a7-4b2f-d118-ff1464718950"
      },
      "execution_count": null,
      "outputs": [
        {
          "output_type": "stream",
          "name": "stdout",
          "text": [
            "tf.Tensor(\n",
            "[[1.]\n",
            " [1.]], shape=(2, 1), dtype=float32)\n"
          ]
        }
      ]
    },
    {
      "cell_type": "code",
      "source": [
        "import tensorflow as tf\n",
        "x = tf.zeros(shape=(2,1))\n",
        "print(x)"
      ],
      "metadata": {
        "colab": {
          "base_uri": "https://localhost:8080/"
        },
        "id": "P5-I4MdAvrEC",
        "outputId": "1237a567-5075-4cd6-c266-738fdb5b1def"
      },
      "execution_count": null,
      "outputs": [
        {
          "output_type": "stream",
          "name": "stdout",
          "text": [
            "tf.Tensor(\n",
            "[[0.]\n",
            " [0.]], shape=(2, 1), dtype=float32)\n"
          ]
        }
      ]
    },
    {
      "cell_type": "code",
      "source": [
        "import tensorflow as tf\n",
        "x = tf.random.normal(shape=(3,1), mean=0., stddev=1.)\n",
        "print(x)"
      ],
      "metadata": {
        "colab": {
          "base_uri": "https://localhost:8080/"
        },
        "id": "AJN5Bj8Cv1Dg",
        "outputId": "c88a4bb8-c5be-4f3c-c3a9-800b2ad577b5"
      },
      "execution_count": null,
      "outputs": [
        {
          "output_type": "stream",
          "name": "stdout",
          "text": [
            "tf.Tensor(\n",
            "[[0.4765539 ]\n",
            " [1.4149132 ]\n",
            " [0.37624133]], shape=(3, 1), dtype=float32)\n"
          ]
        }
      ]
    },
    {
      "cell_type": "code",
      "source": [
        "import numpy as np\n",
        "x = np.ones(shape=(2, 2))\n",
        "x[0,0] = 0\n",
        "print(x)"
      ],
      "metadata": {
        "colab": {
          "base_uri": "https://localhost:8080/"
        },
        "id": "EbNoV6fh34Ra",
        "outputId": "f5dfbcc4-fae5-4f3a-b4d4-744af715cf53"
      },
      "execution_count": null,
      "outputs": [
        {
          "output_type": "stream",
          "name": "stdout",
          "text": [
            "[[0. 1.]\n",
            " [1. 1.]]\n"
          ]
        }
      ]
    },
    {
      "cell_type": "code",
      "source": [
        "import tensorflow as tf\n",
        "a = tf.ones((2, 2))\n",
        "print(a)\n",
        "b = tf.square(a)\n",
        "print(b)\n",
        "c = tf.sqrt(a)\n",
        "print (c)\n",
        "d = b + c\n",
        "print(d)\n",
        "e = tf.matmul(a, b)\n",
        "e *= d"
      ],
      "metadata": {
        "colab": {
          "base_uri": "https://localhost:8080/"
        },
        "id": "wpqjT-B73_n9",
        "outputId": "f6b6db56-c334-4d2c-f2e1-8ca427bb4745"
      },
      "execution_count": null,
      "outputs": [
        {
          "output_type": "stream",
          "name": "stdout",
          "text": [
            "tf.Tensor(\n",
            "[[1. 1.]\n",
            " [1. 1.]], shape=(2, 2), dtype=float32)\n",
            "tf.Tensor(\n",
            "[[1. 1.]\n",
            " [1. 1.]], shape=(2, 2), dtype=float32)\n",
            "tf.Tensor(\n",
            "[[1. 1.]\n",
            " [1. 1.]], shape=(2, 2), dtype=float32)\n",
            "tf.Tensor(\n",
            "[[2. 2.]\n",
            " [2. 2.]], shape=(2, 2), dtype=float32)\n"
          ]
        }
      ]
    },
    {
      "cell_type": "code",
      "source": [],
      "metadata": {
        "id": "v6ij-pafTzhW"
      },
      "execution_count": null,
      "outputs": []
    }
  ]
}